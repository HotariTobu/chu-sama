{
 "cells": [
  {
   "cell_type": "code",
   "execution_count": 1,
   "metadata": {},
   "outputs": [],
   "source": [
    "from pathlib import Path\n",
    "import numpy as np\n",
    "\n",
    "from sklearn.model_selection import train_test_split\n",
    "\n",
    "import tensorflow as tf\n",
    "from tensorflow import keras"
   ]
  },
  {
   "cell_type": "code",
   "execution_count": 2,
   "metadata": {},
   "outputs": [],
   "source": [
    "def load_pose_data(path: Path):\n",
    "    data = []\n",
    "    with open(path, \"r\") as f:\n",
    "        for line in f:\n",
    "            coordinates = []\n",
    "            for coord_str in line.strip().split():\n",
    "                x, y, z = map(float, coord_str.split(\",\"))\n",
    "                coordinates.append([x, y, z])\n",
    "            data.append(coordinates)\n",
    "\n",
    "    matrix = np.array(data)\n",
    "    return matrix"
   ]
  },
  {
   "cell_type": "code",
   "execution_count": 3,
   "metadata": {},
   "outputs": [],
   "source": [
    "data_path = Path('data/pose')\n",
    "pose_file_paths = list(data_path.glob('*.dat'))"
   ]
  },
  {
   "cell_type": "code",
   "execution_count": 5,
   "metadata": {},
   "outputs": [],
   "source": [
    "m = load_pose_data(pose_file_paths[0])"
   ]
  },
  {
   "cell_type": "code",
   "execution_count": 6,
   "metadata": {},
   "outputs": [
    {
     "data": {
      "text/plain": [
       "(2000, 31, 3)"
      ]
     },
     "execution_count": 6,
     "metadata": {},
     "output_type": "execute_result"
    }
   ],
   "source": [
    "m.shape"
   ]
  },
  {
   "cell_type": "code",
   "execution_count": 10,
   "metadata": {},
   "outputs": [
    {
     "data": {
      "text/plain": [
       "array([[[ 0.        ,  0.        ,  0.        ],\n",
       "        [ 0.00469088, -0.3213831 ,  0.08153991],\n",
       "        [ 0.00846129, -0.57670665,  0.15275946],\n",
       "        ...,\n",
       "        [ 0.10168944, -1.3145258 ,  0.13505237],\n",
       "        [ 0.1512783 , -1.2166059 ,  0.34355485],\n",
       "        [ 0.01010621, -1.3203782 ,  0.10308437]],\n",
       "\n",
       "       [[ 0.        ,  0.        ,  0.        ],\n",
       "        [ 0.00381304, -0.31957448,  0.0883164 ],\n",
       "        [ 0.00691916, -0.57632536,  0.15416402],\n",
       "        ...,\n",
       "        [ 0.10368826, -1.3191913 ,  0.14315774],\n",
       "        [ 0.1512797 , -1.2124177 ,  0.347723  ],\n",
       "        [ 0.0123293 , -1.3272802 ,  0.11105645]],\n",
       "\n",
       "       [[ 0.        ,  0.        ,  0.        ],\n",
       "        [ 0.00380774, -0.31957236,  0.08832388],\n",
       "        [ 0.00690962, -0.57632333,  0.15417099],\n",
       "        ...,\n",
       "        [ 0.10349564, -1.3192029 ,  0.14302391],\n",
       "        [ 0.1511991 , -1.2125461 ,  0.34762478],\n",
       "        [ 0.01212451, -1.3272216 ,  0.11094096]],\n",
       "\n",
       "       ...,\n",
       "\n",
       "       [[ 0.        ,  0.        ,  0.        ],\n",
       "        [ 0.00333998, -0.3210747 ,  0.08260855],\n",
       "        [ 0.00579129, -0.57854754,  0.14551184],\n",
       "        ...,\n",
       "        [ 0.04104608, -1.3342427 ,  0.10375788],\n",
       "        [ 0.15066186, -1.238041  ,  0.2887802 ],\n",
       "        [-0.05561242, -1.3296552 ,  0.09498924]],\n",
       "\n",
       "       [[ 0.        ,  0.        ,  0.        ],\n",
       "        [ 0.00487955, -0.32168555,  0.08020394],\n",
       "        [ 0.0087117 , -0.57909393,  0.14337148],\n",
       "        ...,\n",
       "        [ 0.04334271, -1.3294215 ,  0.1002869 ],\n",
       "        [ 0.15301982, -1.2379686 ,  0.28768495],\n",
       "        [-0.05335015, -1.324878  ,  0.09181032]],\n",
       "\n",
       "       [[ 0.        ,  0.        ,  0.        ],\n",
       "        [ 0.00150038, -0.3219757 ,  0.07904904],\n",
       "        [ 0.0028609 , -0.5788195 ,  0.14448102],\n",
       "        ...,\n",
       "        [ 0.03772953, -1.3367119 ,  0.10915155],\n",
       "        [ 0.14927523, -1.2372005 ,  0.29124045],\n",
       "        [-0.05901117, -1.3322419 ,  0.10130035]]])"
      ]
     },
     "execution_count": 10,
     "metadata": {},
     "output_type": "execute_result"
    }
   ],
   "source": [
    "m"
   ]
  },
  {
   "cell_type": "code",
   "execution_count": 13,
   "metadata": {},
   "outputs": [
    {
     "data": {
      "text/plain": [
       "(10, 31, 3)"
      ]
     },
     "execution_count": 13,
     "metadata": {},
     "output_type": "execute_result"
    }
   ],
   "source": [
    "m[:10].shape"
   ]
  }
 ],
 "metadata": {
  "kernelspec": {
   "display_name": ".venv",
   "language": "python",
   "name": "python3"
  },
  "language_info": {
   "codemirror_mode": {
    "name": "ipython",
    "version": 3
   },
   "file_extension": ".py",
   "mimetype": "text/x-python",
   "name": "python",
   "nbconvert_exporter": "python",
   "pygments_lexer": "ipython3",
   "version": "3.12.3"
  }
 },
 "nbformat": 4,
 "nbformat_minor": 2
}
