{
 "cells": [
  {
   "cell_type": "code",
   "execution_count": 2,
   "metadata": {},
   "outputs": [
    {
     "name": "stderr",
     "output_type": "stream",
     "text": [
      "2024-06-20 07:42:12.765156: I tensorflow/core/util/port.cc:113] oneDNN custom operations are on. You may see slightly different numerical results due to floating-point round-off errors from different computation orders. To turn them off, set the environment variable `TF_ENABLE_ONEDNN_OPTS=0`.\n",
      "2024-06-20 07:42:12.804484: I external/local_tsl/tsl/cuda/cudart_stub.cc:32] Could not find cuda drivers on your machine, GPU will not be used.\n",
      "2024-06-20 07:42:13.631428: I external/local_tsl/tsl/cuda/cudart_stub.cc:32] Could not find cuda drivers on your machine, GPU will not be used.\n",
      "2024-06-20 07:42:16.790572: I tensorflow/core/platform/cpu_feature_guard.cc:210] This TensorFlow binary is optimized to use available CPU instructions in performance-critical operations.\n",
      "To enable the following instructions: AVX2 AVX_VNNI FMA, in other operations, rebuild TensorFlow with the appropriate compiler flags.\n",
      "2024-06-20 07:42:24.639736: W tensorflow/compiler/tf2tensorrt/utils/py_utils.cc:38] TF-TRT Warning: Could not find TensorRT\n"
     ]
    }
   ],
   "source": [
    "from pathlib import Path\n",
    "import numpy as np\n",
    "\n",
    "from sklearn.model_selection import train_test_split\n",
    "\n",
    "import tensorflow as tf\n",
    "from tensorflow import keras"
   ]
  },
  {
   "cell_type": "code",
   "execution_count": 3,
   "metadata": {},
   "outputs": [],
   "source": [
    "def load_pose_data(path: Path):\n",
    "    data = []\n",
    "    with open(path, \"r\") as f:\n",
    "        for line in f:\n",
    "            coordinates = []\n",
    "            for coord_str in line.strip().split():\n",
    "                x, y, z = map(float, coord_str.split(\",\"))\n",
    "                coordinates.append([x, y, z])\n",
    "            data.append(coordinates)\n",
    "\n",
    "    matrix = np.array(data)\n",
    "    return matrix"
   ]
  },
  {
   "cell_type": "code",
   "execution_count": 5,
   "metadata": {},
   "outputs": [
    {
     "data": {
      "text/plain": [
       "[PosixPath('data/pose/00_none.dat'),\n",
       " PosixPath('data/pose/01_right.dat'),\n",
       " PosixPath('data/pose/02_left.dat'),\n",
       " PosixPath('data/pose/03_horizontal.dat'),\n",
       " PosixPath('data/pose/04_vertical1.dat'),\n",
       " PosixPath('data/pose/05_vertical2.dat'),\n",
       " PosixPath('data/pose/06_ok.dat'),\n",
       " PosixPath('data/pose/07_bad.dat'),\n",
       " PosixPath('data/pose/08_y.dat'),\n",
       " PosixPath('data/pose/09_m.dat'),\n",
       " PosixPath('data/pose/10_c.dat'),\n",
       " PosixPath('data/pose/11_a.dat')]"
      ]
     },
     "execution_count": 5,
     "metadata": {},
     "output_type": "execute_result"
    }
   ],
   "source": [
    "data_path = Path('data/pose')\n",
    "pose_file_paths = list(data_path.glob('*.dat'))\n",
    "pose_file_paths.sort(key=lambda p: p.stem)\n",
    "pose_file_paths"
   ]
  },
  {
   "cell_type": "code",
   "execution_count": 6,
   "metadata": {},
   "outputs": [],
   "source": [
    "samples = [(path.stem, load_pose_data(path)) for path in pose_file_paths]"
   ]
  },
  {
   "cell_type": "code",
   "execution_count": 12,
   "metadata": {},
   "outputs": [
    {
     "data": {
      "text/plain": [
       "['00_none',\n",
       " '01_right',\n",
       " '02_left',\n",
       " '03_horizontal',\n",
       " '04_vertical1',\n",
       " '05_vertical2',\n",
       " '06_ok',\n",
       " '07_bad',\n",
       " '08_y',\n",
       " '09_m',\n",
       " '10_c',\n",
       " '11_a']"
      ]
     },
     "execution_count": 12,
     "metadata": {},
     "output_type": "execute_result"
    }
   ],
   "source": [
    "labels = [label for label, _ in samples]\n",
    "labels"
   ]
  },
  {
   "cell_type": "code",
   "execution_count": 9,
   "metadata": {},
   "outputs": [
    {
     "name": "stdout",
     "output_type": "stream",
     "text": [
      "\u001b[0;31mType:\u001b[0m        list\n",
      "\u001b[0;31mString form:\u001b[0m\n",
      "[(array([[ 0.00000000e+00,  0.00000000e+00,  0.00000000e+00],\n",
      "           [ 4.69088140e-03, -3.2138310 <...>  -1.2387065e+00,  2.7142397e-01],\n",
      "           [-9.9758710e-02, -1.3284926e+00,  1.2514532e-01]]), 11)]\n",
      "\u001b[0;31mLength:\u001b[0m      24000\n",
      "\u001b[0;31mDocstring:\u001b[0m  \n",
      "Built-in mutable sequence.\n",
      "\n",
      "If no argument is given, the constructor creates a new empty list.\n",
      "The argument must be an iterable if specified."
     ]
    }
   ],
   "source": [
    "dataset = [(result, i) for i, (_, results) in enumerate(samples) for result in results]"
   ]
  },
  {
   "cell_type": "code",
   "execution_count": 10,
   "metadata": {},
   "outputs": [],
   "source": [
    "x = np.array([data for data, _ in dataset])\n",
    "y = np.array([label for _, label in dataset])"
   ]
  },
  {
   "cell_type": "code",
   "execution_count": 13,
   "metadata": {},
   "outputs": [],
   "source": [
    "input_shape = (x.shape[1], x.shape[2])\n",
    "label_len = len(labels)"
   ]
  },
  {
   "cell_type": "code",
   "execution_count": 14,
   "metadata": {},
   "outputs": [],
   "source": [
    "keras_model = keras.Sequential([\n",
    "    keras.layers.InputLayer(input_shape, name='input'),\n",
    "    keras.layers.Flatten(name='Flatten'),\n",
    "    keras.layers.Dense(64, activation='elu', name='Dense'),\n",
    "    keras.layers.Dropout(0.2, name='Dropout'),\n",
    "    keras.layers.Dense(label_len, activation='softmax', name='Output'),\n",
    "])"
   ]
  },
  {
   "cell_type": "code",
   "execution_count": 15,
   "metadata": {},
   "outputs": [],
   "source": [
    "train_x, test_x, train_y, test_y = train_test_split(x, y, train_size=0.8)"
   ]
  },
  {
   "cell_type": "code",
   "execution_count": 18,
   "metadata": {},
   "outputs": [
    {
     "name": "stdout",
     "output_type": "stream",
     "text": [
      "Epoch 1/10\n",
      "\u001b[1m480/480\u001b[0m \u001b[32m━━━━━━━━━━━━━━━━━━━━\u001b[0m\u001b[37m\u001b[0m \u001b[1m1s\u001b[0m 838us/step - accuracy: 1.0000 - loss: 2.5549e-05 - val_accuracy: 1.0000 - val_loss: 4.5635e-09\n",
      "Epoch 2/10\n",
      "\u001b[1m480/480\u001b[0m \u001b[32m━━━━━━━━━━━━━━━━━━━━\u001b[0m\u001b[37m\u001b[0m \u001b[1m0s\u001b[0m 696us/step - accuracy: 1.0000 - loss: 2.3798e-07 - val_accuracy: 1.0000 - val_loss: 2.7940e-10\n",
      "Epoch 3/10\n",
      "\u001b[1m480/480\u001b[0m \u001b[32m━━━━━━━━━━━━━━━━━━━━\u001b[0m\u001b[37m\u001b[0m \u001b[1m0s\u001b[0m 691us/step - accuracy: 1.0000 - loss: 7.7181e-08 - val_accuracy: 1.0000 - val_loss: 1.2418e-10\n",
      "Epoch 4/10\n",
      "\u001b[1m480/480\u001b[0m \u001b[32m━━━━━━━━━━━━━━━━━━━━\u001b[0m\u001b[37m\u001b[0m \u001b[1m0s\u001b[0m 690us/step - accuracy: 1.0000 - loss: 1.2999e-07 - val_accuracy: 0.9919 - val_loss: 0.0158\n",
      "Epoch 5/10\n",
      "\u001b[1m480/480\u001b[0m \u001b[32m━━━━━━━━━━━━━━━━━━━━\u001b[0m\u001b[37m\u001b[0m \u001b[1m0s\u001b[0m 701us/step - accuracy: 0.9999 - loss: 4.7356e-04 - val_accuracy: 1.0000 - val_loss: 1.4280e-09\n",
      "Epoch 6/10\n",
      "\u001b[1m480/480\u001b[0m \u001b[32m━━━━━━━━━━━━━━━━━━━━\u001b[0m\u001b[37m\u001b[0m \u001b[1m0s\u001b[0m 730us/step - accuracy: 1.0000 - loss: 3.2376e-06 - val_accuracy: 1.0000 - val_loss: 9.5335e-08\n",
      "Epoch 7/10\n",
      "\u001b[1m480/480\u001b[0m \u001b[32m━━━━━━━━━━━━━━━━━━━━\u001b[0m\u001b[37m\u001b[0m \u001b[1m0s\u001b[0m 707us/step - accuracy: 1.0000 - loss: 1.1330e-04 - val_accuracy: 1.0000 - val_loss: 3.1044e-10\n",
      "Epoch 8/10\n",
      "\u001b[1m480/480\u001b[0m \u001b[32m━━━━━━━━━━━━━━━━━━━━\u001b[0m\u001b[37m\u001b[0m \u001b[1m0s\u001b[0m 702us/step - accuracy: 1.0000 - loss: 1.0040e-05 - val_accuracy: 1.0000 - val_loss: 5.0291e-09\n",
      "Epoch 9/10\n",
      "\u001b[1m480/480\u001b[0m \u001b[32m━━━━━━━━━━━━━━━━━━━━\u001b[0m\u001b[37m\u001b[0m \u001b[1m0s\u001b[0m 693us/step - accuracy: 1.0000 - loss: 4.0088e-06 - val_accuracy: 1.0000 - val_loss: 0.0000e+00\n",
      "Epoch 10/10\n",
      "\u001b[1m480/480\u001b[0m \u001b[32m━━━━━━━━━━━━━━━━━━━━\u001b[0m\u001b[37m\u001b[0m \u001b[1m0s\u001b[0m 689us/step - accuracy: 1.0000 - loss: 4.7433e-07 - val_accuracy: 1.0000 - val_loss: 0.0000e+00\n"
     ]
    },
    {
     "data": {
      "text/plain": [
       "<keras.src.callbacks.history.History at 0x7f67e17b5ad0>"
      ]
     },
     "execution_count": 18,
     "metadata": {},
     "output_type": "execute_result"
    }
   ],
   "source": [
    "keras_model.compile(optimizer='adam',\n",
    "              loss='sparse_categorical_crossentropy',\n",
    "              metrics=['accuracy'])\n",
    "\n",
    "history = keras_model.fit(train_x, train_y, epochs=10, validation_split=0.2)\n",
    "history"
   ]
  },
  {
   "cell_type": "code",
   "execution_count": 19,
   "metadata": {},
   "outputs": [
    {
     "name": "stdout",
     "output_type": "stream",
     "text": [
      "\u001b[1m150/150\u001b[0m \u001b[32m━━━━━━━━━━━━━━━━━━━━\u001b[0m\u001b[37m\u001b[0m \u001b[1m0s\u001b[0m 535us/step - accuracy: 1.0000 - loss: 2.0270e-09\n"
     ]
    },
    {
     "data": {
      "text/plain": [
       "[2.4835122847122193e-09, 1.0]"
      ]
     },
     "execution_count": 19,
     "metadata": {},
     "output_type": "execute_result"
    }
   ],
   "source": [
    "keras_model.evaluate(test_x, test_y)"
   ]
  },
  {
   "cell_type": "code",
   "execution_count": 20,
   "metadata": {},
   "outputs": [
    {
     "name": "stdout",
     "output_type": "stream",
     "text": [
      "INFO:tensorflow:Assets written to: models/pose/assets\n"
     ]
    },
    {
     "name": "stderr",
     "output_type": "stream",
     "text": [
      "INFO:tensorflow:Assets written to: models/pose/assets\n"
     ]
    },
    {
     "name": "stdout",
     "output_type": "stream",
     "text": [
      "Saved artifact at 'models/pose'. The following endpoints are available:\n",
      "\n",
      "* Endpoint 'serve'\n",
      "  args_0 (POSITIONAL_ONLY): TensorSpec(shape=(None, 31, 3), dtype=tf.float32, name='input')\n",
      "Output Type:\n",
      "  TensorSpec(shape=(None, 12), dtype=tf.float32, name=None)\n",
      "Captures:\n",
      "  140084128041088: TensorSpec(shape=(), dtype=tf.resource, name=None)\n",
      "  140084128044960: TensorSpec(shape=(), dtype=tf.resource, name=None)\n",
      "  140084128045664: TensorSpec(shape=(), dtype=tf.resource, name=None)\n",
      "  140084128046192: TensorSpec(shape=(), dtype=tf.resource, name=None)\n"
     ]
    }
   ],
   "source": [
    "keras_model.export('models/pose')"
   ]
  },
  {
   "cell_type": "code",
   "execution_count": 21,
   "metadata": {},
   "outputs": [
    {
     "name": "stderr",
     "output_type": "stream",
     "text": [
      "WARNING: All log messages before absl::InitializeLog() is called are written to STDERR\n",
      "W0000 00:00:1718870284.151250    6987 tf_tfl_flatbuffer_helpers.cc:390] Ignored output_format.\n",
      "W0000 00:00:1718870284.151280    6987 tf_tfl_flatbuffer_helpers.cc:393] Ignored drop_control_dependency.\n",
      "2024-06-20 07:58:04.153954: I tensorflow/cc/saved_model/reader.cc:83] Reading SavedModel from: models/pose\n",
      "2024-06-20 07:58:04.156252: I tensorflow/cc/saved_model/reader.cc:51] Reading meta graph with tags { serve }\n",
      "2024-06-20 07:58:04.156259: I tensorflow/cc/saved_model/reader.cc:146] Reading SavedModel debug info (if present) from: models/pose\n",
      "2024-06-20 07:58:04.161388: I tensorflow/compiler/mlir/mlir_graph_optimization_pass.cc:388] MLIR V1 optimization pass is not enabled\n",
      "2024-06-20 07:58:04.161757: I tensorflow/cc/saved_model/loader.cc:234] Restoring SavedModel bundle.\n",
      "2024-06-20 07:58:04.180960: I tensorflow/cc/saved_model/loader.cc:218] Running initialization op on SavedModel bundle at path: models/pose\n",
      "2024-06-20 07:58:04.184461: I tensorflow/cc/saved_model/loader.cc:317] SavedModel load for tags { serve }; Status: success: OK. Took 30512 microseconds.\n",
      "2024-06-20 07:58:04.367290: I tensorflow/compiler/mlir/tensorflow/utils/dump_mlir_util.cc:268] disabling MLIR crash reproducer, set env var `MLIR_CRASH_REPRODUCER_DIRECTORY` to enable.\n"
     ]
    }
   ],
   "source": [
    "conv = tf.lite.TFLiteConverter.from_saved_model('models/pose')\n",
    "tflite_model = conv.convert()\n",
    "with open('models/pose.tflite', 'wb') as f:\n",
    "    f.write(tflite_model)"
   ]
  }
 ],
 "metadata": {
  "kernelspec": {
   "display_name": ".venv",
   "language": "python",
   "name": "python3"
  },
  "language_info": {
   "codemirror_mode": {
    "name": "ipython",
    "version": 3
   },
   "file_extension": ".py",
   "mimetype": "text/x-python",
   "name": "python",
   "nbconvert_exporter": "python",
   "pygments_lexer": "ipython3",
   "version": "3.11.9"
  }
 },
 "nbformat": 4,
 "nbformat_minor": 2
}
