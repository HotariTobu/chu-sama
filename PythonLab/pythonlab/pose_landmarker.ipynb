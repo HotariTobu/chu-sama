{
 "cells": [
  {
   "cell_type": "code",
   "execution_count": 2,
   "metadata": {},
   "outputs": [],
   "source": [
    "import mediapipe as mp\n",
    "from mediapipe import tasks\n",
    "from mediapipe.tasks.python import vision\n",
    "\n",
    "import cv2\n",
    "import numpy as np\n",
    "\n",
    "from mediapipe.framework.formats import landmark_pb2\n",
    "from mediapipe.python.solutions import drawing_utils, drawing_styles, pose"
   ]
  },
  {
   "cell_type": "code",
   "execution_count": 3,
   "metadata": {},
   "outputs": [],
   "source": [
    "model_path = 'models/pose_landmarker_full.task'"
   ]
  },
  {
   "cell_type": "code",
   "execution_count": 4,
   "metadata": {},
   "outputs": [],
   "source": [
    "def draw_landmarks_on_image(rgb_image, detection_result: vision.PoseLandmarkerResult):\n",
    "    pose_landmarks_list = detection_result.pose_landmarks\n",
    "    annotated_image = np.copy(rgb_image)\n",
    "\n",
    "    # Loop through the detected poses to visualize.\n",
    "    for pose_landmarks in pose_landmarks_list:\n",
    "        # Draw the pose landmarks.\n",
    "        pose_landmarks_proto = landmark_pb2.NormalizedLandmarkList()\n",
    "        pose_landmarks_proto.landmark.extend(\n",
    "            [\n",
    "                landmark_pb2.NormalizedLandmark(\n",
    "                    x=landmark.x, y=landmark.y, z=landmark.z\n",
    "                )\n",
    "                for landmark in pose_landmarks\n",
    "            ]\n",
    "        )\n",
    "        drawing_utils.draw_landmarks(\n",
    "            annotated_image,\n",
    "            pose_landmarks_proto,\n",
    "            pose.POSE_CONNECTIONS,\n",
    "            drawing_styles.get_default_pose_landmarks_style(),\n",
    "        )\n",
    "    return annotated_image"
   ]
  },
  {
   "cell_type": "markdown",
   "metadata": {},
   "source": [
    "[サンプル動画のダウンロードはこちらから](https://videos.pexels.com/video-files/3997798/3997798-uhd_2160_4096_25fps.mp4)"
   ]
  },
  {
   "cell_type": "code",
   "execution_count": 5,
   "metadata": {},
   "outputs": [
    {
     "name": "stderr",
     "output_type": "stream",
     "text": [
      "WARNING: All log messages before absl::InitializeLog() is called are written to STDERR\n",
      "I0000 00:00:1718180631.764715  118237 gl_context.cc:357] GL version: 2.1 (2.1 Metal - 88.1), renderer: Apple M3\n",
      "INFO: Created TensorFlow Lite XNNPACK delegate for CPU.\n",
      "W0000 00:00:1718180631.852961  119498 inference_feedback_manager.cc:114] Feedback manager requires a model with a single signature inference. Disabling support for feedback tensors.\n",
      "W0000 00:00:1718180631.868122  119499 inference_feedback_manager.cc:114] Feedback manager requires a model with a single signature inference. Disabling support for feedback tensors.\n",
      "/Users/takato/Documents/chu-sama/PythonLab/.venv/lib/python3.12/site-packages/google/protobuf/symbol_database.py:55: UserWarning: SymbolDatabase.GetPrototype() is deprecated. Please use message_factory.GetMessageClass() instead. SymbolDatabase.GetPrototype() will be removed soon.\n",
      "  warnings.warn('SymbolDatabase.GetPrototype() is deprecated. Please '\n"
     ]
    }
   ],
   "source": [
    "# Create a pose landmarker instance with the video mode:\n",
    "options = vision.PoseLandmarkerOptions(\n",
    "    base_options=tasks.BaseOptions(model_asset_path=model_path),\n",
    "    running_mode=vision.RunningMode.VIDEO)\n",
    "\n",
    "with vision.PoseLandmarker.create_from_options(options) as landmarker:\n",
    "    cap = cv2.VideoCapture('videos/3997798-uhd_2160_4096_25fps.mp4')\n",
    "    if not cap.isOpened():\n",
    "        raise\n",
    "\n",
    "    while True:\n",
    "        ret, cv2_image = cap.read()\n",
    "        if not ret:\n",
    "            break\n",
    "\n",
    "        # cv2.imshow('Sample Video', cv2_image)\n",
    "\n",
    "        # Convert the frame received from OpenCV to a MediaPipe’s Image object.\n",
    "        mp_image = mp.Image(image_format=mp.ImageFormat.SRGB, data=cv2_image)\n",
    "\n",
    "        # Load the frame rate of the video using OpenCV’s CV_CAP_PROP_FPS\n",
    "        # You’ll need it to calculate the timestamp for each frame.\n",
    "        timestamp = int(cap.get(cv2.CAP_PROP_POS_MSEC))\n",
    "\n",
    "        # Perform pose landmarking on the provided single image.\n",
    "        # The pose landmarker must be created with the video mode.\n",
    "        pose_landmarker_result = landmarker.detect_for_video(mp_image, timestamp)\n",
    "\n",
    "        annotated_image = draw_landmarks_on_image(cv2_image, pose_landmarker_result)\n",
    "        cv2.imshow('Sample Video', annotated_image)\n",
    "\n",
    "        if cv2.waitKey(5) & 0xFF == ord('q'):\n",
    "            break\n",
    "\n",
    "    cap.release()\n",
    "    cv2.destroyAllWindows()"
   ]
  },
  {
   "cell_type": "code",
   "execution_count": 6,
   "metadata": {},
   "outputs": [
    {
     "name": "stderr",
     "output_type": "stream",
     "text": [
      "I0000 00:00:1718180634.540282  118237 gl_context.cc:357] GL version: 2.1 (2.1 Metal - 88.1), renderer: Apple M3\n",
      "W0000 00:00:1718180634.600588  119654 inference_feedback_manager.cc:114] Feedback manager requires a model with a single signature inference. Disabling support for feedback tensors.\n",
      "W0000 00:00:1718180634.605803  119654 inference_feedback_manager.cc:114] Feedback manager requires a model with a single signature inference. Disabling support for feedback tensors.\n"
     ]
    }
   ],
   "source": [
    "import time\n",
    "\n",
    "\n",
    "with vision.PoseLandmarker.create_from_options(options) as landmarker:\n",
    "    cap = cv2.VideoCapture(0)\n",
    "    if not cap.isOpened():\n",
    "        raise\n",
    "\n",
    "    while True:\n",
    "        ret, cv2_image = cap.read()\n",
    "        if not ret:\n",
    "            continue\n",
    "\n",
    "        mp_image = mp.Image(image_format=mp.ImageFormat.SRGB, data=cv2_image)\n",
    "        timestamp = int(time.time() * 1000)\n",
    "        pose_landmarker_result = landmarker.detect_for_video(mp_image, timestamp)\n",
    "\n",
    "        annotated_image = draw_landmarks_on_image(cv2_image, pose_landmarker_result)\n",
    "        cv2.imshow('Sample Video', annotated_image)\n",
    "\n",
    "        if cv2.waitKey(5) & 0xFF == ord('q'):\n",
    "            break\n",
    "\n",
    "    cap.release()\n",
    "    cv2.destroyAllWindows()"
   ]
  }
 ],
 "metadata": {
  "kernelspec": {
   "display_name": ".venv",
   "language": "python",
   "name": "python3"
  },
  "language_info": {
   "codemirror_mode": {
    "name": "ipython",
    "version": 3
   },
   "file_extension": ".py",
   "mimetype": "text/x-python",
   "name": "python",
   "nbconvert_exporter": "python",
   "pygments_lexer": "ipython3",
   "version": "3.12.3"
  }
 },
 "nbformat": 4,
 "nbformat_minor": 2
}
